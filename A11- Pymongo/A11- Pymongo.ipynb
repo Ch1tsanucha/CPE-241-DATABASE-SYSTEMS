{
 "cells": [
  {
   "cell_type": "code",
   "execution_count": 6,
   "metadata": {},
   "outputs": [
    {
     "name": "stdout",
     "output_type": "stream",
     "text": [
      "Requirement already satisfied: pymongo in c:\\users\\praiya\\appdata\\local\\packages\\pythonsoftwarefoundation.python.3.11_qbz5n2kfra8p0\\localcache\\local-packages\\python311\\site-packages (4.7.1)\n",
      "Requirement already satisfied: dnspython<3.0.0,>=1.16.0 in c:\\users\\praiya\\appdata\\local\\packages\\pythonsoftwarefoundation.python.3.11_qbz5n2kfra8p0\\localcache\\local-packages\\python311\\site-packages (from pymongo) (2.6.1)\n"
     ]
    }
   ],
   "source": [
    "! pip install pymongo"
   ]
  },
  {
   "cell_type": "code",
   "execution_count": 7,
   "metadata": {},
   "outputs": [],
   "source": [
    "import pymongo"
   ]
  },
  {
   "cell_type": "code",
   "execution_count": 8,
   "metadata": {},
   "outputs": [
    {
     "name": "stdout",
     "output_type": "stream",
     "text": [
      "['admin', 'config', 'lab11', 'local']\n"
     ]
    }
   ],
   "source": [
    "conn_str = \"mongodb://localhost:27017/\"\n",
    "client = pymongo.MongoClient(conn_str)\n",
    "print(client.list_database_names())"
   ]
  },
  {
   "cell_type": "code",
   "execution_count": 9,
   "metadata": {},
   "outputs": [],
   "source": [
    "mydb = client[\"lab11\"]"
   ]
  },
  {
   "cell_type": "code",
   "execution_count": 10,
   "metadata": {},
   "outputs": [
    {
     "ename": "CollectionInvalid",
     "evalue": "collection teachers already exists",
     "output_type": "error",
     "traceback": [
      "\u001b[1;31m---------------------------------------------------------------------------\u001b[0m",
      "\u001b[1;31mCollectionInvalid\u001b[0m                         Traceback (most recent call last)",
      "Cell \u001b[1;32mIn[10], line 1\u001b[0m\n\u001b[1;32m----> 1\u001b[0m \u001b[43mmydb\u001b[49m\u001b[38;5;241;43m.\u001b[39;49m\u001b[43mcreate_collection\u001b[49m\u001b[43m(\u001b[49m\u001b[38;5;124;43m\"\u001b[39;49m\u001b[38;5;124;43mteachers\u001b[39;49m\u001b[38;5;124;43m\"\u001b[39;49m\u001b[43m)\u001b[49m\n\u001b[0;32m      2\u001b[0m mydb\u001b[38;5;241m.\u001b[39mcreate_collection(\u001b[38;5;124m\"\u001b[39m\u001b[38;5;124msubjects\u001b[39m\u001b[38;5;124m\"\u001b[39m)\n\u001b[0;32m      3\u001b[0m mydb\u001b[38;5;241m.\u001b[39mcreate_collection(\u001b[38;5;124m\"\u001b[39m\u001b[38;5;124mgroups\u001b[39m\u001b[38;5;124m\"\u001b[39m)\n",
      "File \u001b[1;32m~\\AppData\\Local\\Packages\\PythonSoftwareFoundation.Python.3.11_qbz5n2kfra8p0\\LocalCache\\local-packages\\Python311\\site-packages\\pymongo\\_csot.py:108\u001b[0m, in \u001b[0;36mapply.<locals>.csot_wrapper\u001b[1;34m(self, *args, **kwargs)\u001b[0m\n\u001b[0;32m    106\u001b[0m         \u001b[38;5;28;01mwith\u001b[39;00m _TimeoutContext(timeout):\n\u001b[0;32m    107\u001b[0m             \u001b[38;5;28;01mreturn\u001b[39;00m func(\u001b[38;5;28mself\u001b[39m, \u001b[38;5;241m*\u001b[39margs, \u001b[38;5;241m*\u001b[39m\u001b[38;5;241m*\u001b[39mkwargs)\n\u001b[1;32m--> 108\u001b[0m \u001b[38;5;28;01mreturn\u001b[39;00m \u001b[43mfunc\u001b[49m\u001b[43m(\u001b[49m\u001b[38;5;28;43mself\u001b[39;49m\u001b[43m,\u001b[49m\u001b[43m \u001b[49m\u001b[38;5;241;43m*\u001b[39;49m\u001b[43margs\u001b[49m\u001b[43m,\u001b[49m\u001b[43m \u001b[49m\u001b[38;5;241;43m*\u001b[39;49m\u001b[38;5;241;43m*\u001b[39;49m\u001b[43mkwargs\u001b[49m\u001b[43m)\u001b[49m\n",
      "File \u001b[1;32m~\\AppData\\Local\\Packages\\PythonSoftwareFoundation.Python.3.11_qbz5n2kfra8p0\\LocalCache\\local-packages\\Python311\\site-packages\\pymongo\\database.py:461\u001b[0m, in \u001b[0;36mDatabase.create_collection\u001b[1;34m(self, name, codec_options, read_preference, write_concern, read_concern, session, check_exists, **kwargs)\u001b[0m\n\u001b[0;32m    453\u001b[0m \u001b[38;5;28;01mwith\u001b[39;00m \u001b[38;5;28mself\u001b[39m\u001b[38;5;241m.\u001b[39m__client\u001b[38;5;241m.\u001b[39m_tmp_session(session) \u001b[38;5;28;01mas\u001b[39;00m s:\n\u001b[0;32m    454\u001b[0m     \u001b[38;5;66;03m# Skip this check in a transaction where listCollections is not\u001b[39;00m\n\u001b[0;32m    455\u001b[0m     \u001b[38;5;66;03m# supported.\u001b[39;00m\n\u001b[0;32m    456\u001b[0m     \u001b[38;5;28;01mif\u001b[39;00m (\n\u001b[0;32m    457\u001b[0m         check_exists\n\u001b[0;32m    458\u001b[0m         \u001b[38;5;129;01mand\u001b[39;00m (\u001b[38;5;129;01mnot\u001b[39;00m s \u001b[38;5;129;01mor\u001b[39;00m \u001b[38;5;129;01mnot\u001b[39;00m s\u001b[38;5;241m.\u001b[39min_transaction)\n\u001b[0;32m    459\u001b[0m         \u001b[38;5;129;01mand\u001b[39;00m name \u001b[38;5;129;01min\u001b[39;00m \u001b[38;5;28mself\u001b[39m\u001b[38;5;241m.\u001b[39mlist_collection_names(\u001b[38;5;28mfilter\u001b[39m\u001b[38;5;241m=\u001b[39m{\u001b[38;5;124m\"\u001b[39m\u001b[38;5;124mname\u001b[39m\u001b[38;5;124m\"\u001b[39m: name}, session\u001b[38;5;241m=\u001b[39ms)\n\u001b[0;32m    460\u001b[0m     ):\n\u001b[1;32m--> 461\u001b[0m         \u001b[38;5;28;01mraise\u001b[39;00m CollectionInvalid(\u001b[38;5;124m\"\u001b[39m\u001b[38;5;124mcollection \u001b[39m\u001b[38;5;132;01m%s\u001b[39;00m\u001b[38;5;124m already exists\u001b[39m\u001b[38;5;124m\"\u001b[39m \u001b[38;5;241m%\u001b[39m name)\n\u001b[0;32m    462\u001b[0m     \u001b[38;5;28;01mreturn\u001b[39;00m Collection(\n\u001b[0;32m    463\u001b[0m         \u001b[38;5;28mself\u001b[39m,\n\u001b[0;32m    464\u001b[0m         name,\n\u001b[1;32m   (...)\u001b[0m\n\u001b[0;32m    471\u001b[0m         \u001b[38;5;241m*\u001b[39m\u001b[38;5;241m*\u001b[39mkwargs,\n\u001b[0;32m    472\u001b[0m     )\n",
      "\u001b[1;31mCollectionInvalid\u001b[0m: collection teachers already exists"
     ]
    }
   ],
   "source": [
    "mydb.create_collection(\"teachers\")\n",
    "mydb.create_collection(\"subjects\")\n",
    "mydb.create_collection(\"groups\")\n",
    "mydb.create_collection(\"group_teacher\")\n",
    "mydb.create_collection(\"students\")\n",
    "mydb.create_collection(\"scores\")"
   ]
  },
  {
   "cell_type": "code",
   "execution_count": null,
   "metadata": {},
   "outputs": [
    {
     "data": {
      "text/plain": [
       "['lab',\n",
       " 'scores',\n",
       " 'group_teacher',\n",
       " 'groups',\n",
       " 'teachers',\n",
       " 'subjects',\n",
       " 'students']"
      ]
     },
     "execution_count": 5,
     "metadata": {},
     "output_type": "execute_result"
    }
   ],
   "source": [
    "mydb.list_collection_names()"
   ]
  },
  {
   "cell_type": "code",
   "execution_count": 39,
   "metadata": {},
   "outputs": [],
   "source": [
    "mylist_teachers = [\n",
    "    {\"teacher_id\":\"T001\",\n",
    "     \"firstname\":\"Khajonpong\",\n",
    "     \"lastname\":\"Akkarajitsakul\"\n",
    "    },\n",
    "    {\"teacher_id\":\"T002\",\n",
    "     \"firstname\":\"Phond\",\n",
    "     \"lastname\":\"Phunchongharn\"\n",
    "    }\n",
    "]\n",
    "mycollection_teachers = mydb[\"teachers\"]\n",
    "result = mycollection_teachers.insert_many(mylist_teachers)"
   ]
  },
  {
   "cell_type": "code",
   "execution_count": null,
   "metadata": {},
   "outputs": [
    {
     "data": {
      "text/plain": [
       "[{'_id': ObjectId('6631e69ab28578040a2304c2'),\n",
       "  'teacher_id': 'T001',\n",
       "  'firstname': 'Khajonpong',\n",
       "  'lastname': 'Akkarajitsakul'},\n",
       " {'_id': ObjectId('6631e69ab28578040a2304c3'),\n",
       "  'teacher_id': 'T002',\n",
       "  'firstname': 'Phond',\n",
       "  'lastname': 'Phunchongharn'}]"
      ]
     },
     "execution_count": 17,
     "metadata": {},
     "output_type": "execute_result"
    }
   ],
   "source": [
    "list(mycollection_teachers.find())"
   ]
  },
  {
   "cell_type": "code",
   "execution_count": 11,
   "metadata": {},
   "outputs": [
    {
     "data": {
      "text/plain": [
       "[{'_id': ObjectId('663691bddcd3deeb174a51cd'),\n",
       "  'subjects_id': 'CPE332',\n",
       "  'subjects_name': 'Database Systems'},\n",
       " {'_id': ObjectId('663691bddcd3deeb174a51ce'),\n",
       "  'subjects_id': 'CPE333',\n",
       "  'subjects_name': 'Software Engineering'}]"
      ]
     },
     "execution_count": 11,
     "metadata": {},
     "output_type": "execute_result"
    }
   ],
   "source": [
    "mylist_subjects = [\n",
    "    {\"subjects_id\":\"CPE332\",\n",
    "     \"subjects_name\":\"Database Systems\"\n",
    "    },\n",
    "    {\"subjects_id\":\"CPE333\",\n",
    "     \"subjects_name\":\"Software Engineering\"\n",
    "    }\n",
    "]\n",
    "mycollection_subjects = mydb[\"subjects\"]\n",
    "result = mycollection_subjects.insert_many(mylist_subjects)\n",
    "list(mycollection_subjects.find())"
   ]
  },
  {
   "cell_type": "code",
   "execution_count": null,
   "metadata": {},
   "outputs": [
    {
     "data": {
      "text/plain": [
       "[{'_id': ObjectId('6635f4c7ee4d4d9e734a7491'),\n",
       "  'group_id': 'G001',\n",
       "  'group_name': 'International Section'},\n",
       " {'_id': ObjectId('6635f4c7ee4d4d9e734a7492'),\n",
       "  'group_id': 'G002',\n",
       "  'group_name': 'Thai Section'}]"
      ]
     },
     "execution_count": 229,
     "metadata": {},
     "output_type": "execute_result"
    }
   ],
   "source": [
    "mylist_groups = [\n",
    "    {\"group_id\":\"G001\",\n",
    "     \"group_name\":\"International Section\"\n",
    "    },\n",
    "    {\"group_id\":\"G002\",\n",
    "     \"group_name\":\"Thai Section\"\n",
    "    }\n",
    "]\n",
    "mycollection_groups = mydb[\"groups\"]\n",
    "result = mycollection_groups.insert_many(mylist_groups)\n",
    "list(mycollection_groups.find())"
   ]
  },
  {
   "cell_type": "code",
   "execution_count": null,
   "metadata": {},
   "outputs": [
    {
     "data": {
      "text/plain": [
       "[{'_id': ObjectId('6631e69ab28578040a2304c8'),\n",
       "  'group_id': 'G001',\n",
       "  'subject_id': 'CPE332',\n",
       "  'teacher_id': 'T001'},\n",
       " {'_id': ObjectId('6631e69ab28578040a2304c9'),\n",
       "  'group_id': 'G002',\n",
       "  'subject_id': 'CPE332',\n",
       "  'teacher_id': 'T001'},\n",
       " {'_id': ObjectId('6631e69ab28578040a2304ca'),\n",
       "  'group_id': 'G001',\n",
       "  'subject_id': 'CPE333',\n",
       "  'teacher_id': 'T002'},\n",
       " {'_id': ObjectId('6631e69ab28578040a2304cb'),\n",
       "  'group_id': 'G002',\n",
       "  'subject_id': 'CPE333',\n",
       "  'teacher_id': 'T001'},\n",
       " {'_id': ObjectId('6631e69ab28578040a2304cc'),\n",
       "  'group_id': 'G002',\n",
       "  'subject_id': 'CPE333',\n",
       "  'teacher_id': 'T002'}]"
      ]
     },
     "execution_count": 20,
     "metadata": {},
     "output_type": "execute_result"
    }
   ],
   "source": [
    "mylist_group_teacher = [\n",
    "    {\"group_id\":\"G001\",\n",
    "     \"subject_id\":\"CPE332\",\n",
    "     \"teacher_id\":\"T001\"\n",
    "    },\n",
    "    {\"group_id\":\"G002\",\n",
    "     \"subject_id\":\"CPE332\",\n",
    "     \"teacher_id\":\"T001\"\n",
    "    },\n",
    "     {\"group_id\":\"G001\",\n",
    "     \"subject_id\":\"CPE333\",\n",
    "     \"teacher_id\":\"T002\"\n",
    "    },\n",
    "     {\"group_id\":\"G002\",\n",
    "     \"subject_id\":\"CPE333\",\n",
    "     \"teacher_id\":\"T001\"\n",
    "    },\n",
    "     {\"group_id\":\"G002\",\n",
    "     \"subject_id\":\"CPE333\",\n",
    "     \"teacher_id\":\"T002\"\n",
    "    }\n",
    "]\n",
    "mycollection_group_teacher = mydb[\"group_teacher\"]\n",
    "result = mycollection_group_teacher.insert_many(mylist_group_teacher)\n",
    "list(mycollection_group_teacher.find())"
   ]
  },
  {
   "cell_type": "code",
   "execution_count": null,
   "metadata": {},
   "outputs": [
    {
     "data": {
      "text/plain": [
       "[{'_id': ObjectId('6635f4d6ee4d4d9e734a7493'),\n",
       "  'student_id': 'S001',\n",
       "  'firstname': 'Aran',\n",
       "  'lastname': 'Bundit',\n",
       "  'group_id': 'G001'},\n",
       " {'_id': ObjectId('6635f4d6ee4d4d9e734a7494'),\n",
       "  'student_id': 'S002',\n",
       "  'firstname': 'Arin',\n",
       "  'lastname': 'Akkara',\n",
       "  'group_id': 'G002'},\n",
       " {'_id': ObjectId('6635f4d6ee4d4d9e734a7495'),\n",
       "  'student_id': 'S003',\n",
       "  'firstname': 'Aree',\n",
       "  'lastname': 'Rukdee',\n",
       "  'group_id': 'G002'}]"
      ]
     },
     "execution_count": 230,
     "metadata": {},
     "output_type": "execute_result"
    }
   ],
   "source": [
    "mylist_students = [\n",
    "    {\"student_id\":\"S001\",\n",
    "     \"firstname\":\"Aran\",\n",
    "     \"lastname\":\"Bundit\",\n",
    "     \"group_id\":\"G001\"\n",
    "    },\n",
    "    {\"student_id\":\"S002\",\n",
    "     \"firstname\":\"Arin\",\n",
    "     \"lastname\":\"Akkara\",\n",
    "     \"group_id\":\"G002\"\n",
    "    },\n",
    "    {\n",
    "    \"student_id\":\"S003\",\n",
    "     \"firstname\":\"Aree\",\n",
    "     \"lastname\":\"Rukdee\",\n",
    "     \"group_id\":\"G002\"\n",
    "    }\n",
    "]\n",
    "mycollection_students = mydb[\"students\"]\n",
    "result = mycollection_students.insert_many(mylist_students)\n",
    "list(mycollection_students.find())"
   ]
  },
  {
   "cell_type": "code",
   "execution_count": null,
   "metadata": {},
   "outputs": [
    {
     "data": {
      "text/plain": [
       "[{'_id': ObjectId('6631e69ab28578040a2304d0'),\n",
       "  'score_id': '001',\n",
       "  'student_id': 'S001',\n",
       "  'subject_id': 'CPE332',\n",
       "  'date': 'Nov 16, 2022',\n",
       "  'score': '70'},\n",
       " {'_id': ObjectId('6631e69ab28578040a2304d1'),\n",
       "  'score_id': '002',\n",
       "  'student_id': 'S002',\n",
       "  'subject_id': 'CPE332',\n",
       "  'date': 'Nov 16, 2022',\n",
       "  'score': '72'},\n",
       " {'_id': ObjectId('6631e69ab28578040a2304d2'),\n",
       "  'score_id': '003',\n",
       "  'student_id': 'S003',\n",
       "  'subject_id': 'CPE332',\n",
       "  'date': 'Nov 16, 2022',\n",
       "  'score': '95'},\n",
       " {'_id': ObjectId('6631e69ab28578040a2304d3'),\n",
       "  'score_id': '004',\n",
       "  'student_id': 'S001',\n",
       "  'subject_id': 'CPE333',\n",
       "  'date': 'Nov 16, 2022',\n",
       "  'score': '50'},\n",
       " {'_id': ObjectId('6631e69ab28578040a2304d4'),\n",
       "  'score_id': '005',\n",
       "  'student_id': 'S002',\n",
       "  'subject_id': 'CPE333',\n",
       "  'date': 'Nov 16, 2022',\n",
       "  'score': '55'},\n",
       " {'_id': ObjectId('6631e69ab28578040a2304d5'),\n",
       "  'score_id': '006',\n",
       "  'student_id': 'S003',\n",
       "  'subject_id': 'CPE333',\n",
       "  'date': 'Nov 16, 2022',\n",
       "  'score': '20'}]"
      ]
     },
     "execution_count": 22,
     "metadata": {},
     "output_type": "execute_result"
    }
   ],
   "source": [
    "mylist_scores = [\n",
    "    {\"score_id\":\"001\",\n",
    "     \"student_id\":\"S001\",\n",
    "     \"subject_id\":\"CPE332\",\n",
    "     \"date\":\"Nov 16, 2022\",\n",
    "     \"score\":\"70\"\n",
    "    },\n",
    "    {\"score_id\":\"002\",\n",
    "     \"student_id\":\"S002\",\n",
    "     \"subject_id\":\"CPE332\",\n",
    "     \"date\":\"Nov 16, 2022\",\n",
    "     \"score\":\"72\"\n",
    "    },\n",
    "    {\"score_id\":\"003\",\n",
    "     \"student_id\":\"S003\",\n",
    "     \"subject_id\":\"CPE332\",\n",
    "     \"date\":\"Nov 16, 2022\",\n",
    "     \"score\":\"95\"\n",
    "    },\n",
    "    {\"score_id\":\"004\",\n",
    "     \"student_id\":\"S001\",\n",
    "     \"subject_id\":\"CPE333\",\n",
    "     \"date\":\"Nov 16, 2022\",\n",
    "     \"score\":\"50\"\n",
    "    },\n",
    "    {\"score_id\":\"005\",\n",
    "     \"student_id\":\"S002\",\n",
    "     \"subject_id\":\"CPE333\",\n",
    "     \"date\":\"Nov 16, 2022\",\n",
    "     \"score\":\"55\"\n",
    "    },\n",
    "    {\"score_id\":\"006\",\n",
    "     \"student_id\":\"S003\",\n",
    "     \"subject_id\":\"CPE333\",\n",
    "     \"date\":\"Nov 16, 2022\",\n",
    "     \"score\":\"20\"\n",
    "    },\n",
    "]\n",
    "mycollection_scores = mydb[\"scores\"]\n",
    "result = mycollection_scores.insert_many(mylist_scores)\n",
    "list(mycollection_scores.find())"
   ]
  },
  {
   "cell_type": "code",
   "execution_count": 12,
   "metadata": {},
   "outputs": [],
   "source": [
    "mycollection = mydb['scores']\n",
    "mycollection2 = mydb['subjects']\n",
    "mycollection3 = mydb['students']"
   ]
  },
  {
   "cell_type": "code",
   "execution_count": 13,
   "metadata": {},
   "outputs": [],
   "source": [
    "result = mycollection.find()\n",
    "temp = list(result)"
   ]
  },
  {
   "cell_type": "code",
   "execution_count": 14,
   "metadata": {},
   "outputs": [],
   "source": [
    "result2 = mycollection2.find()\n",
    "temp2 = list(result2)"
   ]
  },
  {
   "cell_type": "code",
   "execution_count": 15,
   "metadata": {},
   "outputs": [],
   "source": [
    "result3 = mycollection3.find()\n",
    "temp3 = list(result3)"
   ]
  },
  {
   "cell_type": "code",
   "execution_count": 16,
   "metadata": {},
   "outputs": [
    {
     "data": {
      "text/plain": [
       "[{'_id': ObjectId('66368f8d473096c2a458d62e'),\n",
       "  'score_id': '001',\n",
       "  'student_id': 'S001',\n",
       "  'subject_id': 'CPE332',\n",
       "  'date': 'Nov 16, 2022',\n",
       "  'score': 70},\n",
       " {'_id': ObjectId('66368f8d473096c2a458d62f'),\n",
       "  'score_id': '002',\n",
       "  'student_id': 'S002',\n",
       "  'subject_id': 'CPE332',\n",
       "  'date': 'Nov 16, 2022',\n",
       "  'score': 72},\n",
       " {'_id': ObjectId('66368f8d473096c2a458d630'),\n",
       "  'score_id': '003',\n",
       "  'student_id': 'S003',\n",
       "  'subject_id': 'CPE332',\n",
       "  'date': 'Nov 16, 2022',\n",
       "  'score': 95},\n",
       " {'_id': ObjectId('66368f8d473096c2a458d631'),\n",
       "  'score_id': '004',\n",
       "  'student_id': 'S001',\n",
       "  'subject_id': 'CPE333',\n",
       "  'date': 'Nov 16, 2022',\n",
       "  'score': 50},\n",
       " {'_id': ObjectId('66368f8d473096c2a458d632'),\n",
       "  'score_id': '005',\n",
       "  'student_id': 'S002',\n",
       "  'subject_id': 'CPE333',\n",
       "  'date': 'Nov 16, 2022',\n",
       "  'score': 55},\n",
       " {'_id': ObjectId('66368f8d473096c2a458d633'),\n",
       "  'score_id': '006',\n",
       "  'student_id': 'S003',\n",
       "  'subject_id': 'CPE333',\n",
       "  'date': 'Nov 16, 2022',\n",
       "  'score': 20}]"
      ]
     },
     "execution_count": 16,
     "metadata": {},
     "output_type": "execute_result"
    }
   ],
   "source": [
    "temp"
   ]
  },
  {
   "cell_type": "code",
   "execution_count": 17,
   "metadata": {},
   "outputs": [
    {
     "data": {
      "text/plain": [
       "[{'_id': ObjectId('663691bddcd3deeb174a51cd'),\n",
       "  'subjects_id': 'CPE332',\n",
       "  'subjects_name': 'Database Systems'},\n",
       " {'_id': ObjectId('663691bddcd3deeb174a51ce'),\n",
       "  'subjects_id': 'CPE333',\n",
       "  'subjects_name': 'Software Engineering'}]"
      ]
     },
     "execution_count": 17,
     "metadata": {},
     "output_type": "execute_result"
    }
   ],
   "source": [
    "temp2"
   ]
  },
  {
   "cell_type": "code",
   "execution_count": 18,
   "metadata": {},
   "outputs": [
    {
     "data": {
      "text/plain": [
       "[{'_id': ObjectId('66368f8d473096c2a458d62b'),\n",
       "  'student_id': 'S001',\n",
       "  'firstname': 'Aran',\n",
       "  'lastname': 'Bundit',\n",
       "  'group_id': 'G001'},\n",
       " {'_id': ObjectId('66368f8d473096c2a458d62c'),\n",
       "  'student_id': 'S002',\n",
       "  'firstname': 'Arin',\n",
       "  'lastname': 'Akkara',\n",
       "  'group_id': 'G002'},\n",
       " {'_id': ObjectId('66368f8d473096c2a458d62d'),\n",
       "  'student_id': 'S003',\n",
       "  'firstname': 'Aree',\n",
       "  'lastname': 'Rukdee',\n",
       "  'group_id': 'G002'}]"
      ]
     },
     "execution_count": 18,
     "metadata": {},
     "output_type": "execute_result"
    }
   ],
   "source": [
    "temp3"
   ]
  },
  {
   "cell_type": "markdown",
   "metadata": {},
   "source": [
    "<h1 style=\"color:green\">1. What is the average score of each group?</h1>"
   ]
  },
  {
   "cell_type": "code",
   "execution_count": null,
   "metadata": {},
   "outputs": [
    {
     "name": "stdout",
     "output_type": "stream",
     "text": [
      "G001 70\n",
      "G001 50\n",
      "G002 72\n",
      "G002 55\n",
      "G002 95\n",
      "G002 20\n",
      "[{'group_id': 'G001', 'score': ['70', '50']}, {'group_id': 'G002', 'score': ['72', '55', '95', '20']}]\n",
      "G001 60.0\n",
      "G002 60.5\n"
     ]
    }
   ],
   "source": [
    "scoreList = []\n",
    "\n",
    "for i in temp3: #loop เพื่อดึงคะแนนกับกลุ่มของนักเรียนแต่ละคน\n",
    "    for j in temp:\n",
    "        if i.get('student_id') == j.get('student_id') : \n",
    "            scoreList.append({'group_id': i.get('group_id'), 'score': j.get('score')})\n",
    "            print(i.get('group_id') ,j.get('score'))\n",
    "\n",
    "scoreList = list(scoreList)\n",
    "\n",
    "groupList = []\n",
    "for i in scoreList: #loop เพื่อจับกลุ่มเพื่อคะแนนวิชาเดียวกันมาอยู่ด้วยกัน\n",
    "    for j in groupList:\n",
    "        if i.get('group_id') == j.get('group_id'):\n",
    "            j['score'].append(i.get('score'))\n",
    "    if i.get('group_id') not in [j.get('group_id') for j in groupList]:\n",
    "        groupList.append({'group_id': i.get('group_id'), 'score': [i.get('score')]})\n",
    "\n",
    "print(groupList)\n",
    "\n",
    "for i in groupList:\n",
    "    scores = [int(score) for score in i.get('score')]  # Convert scores to list of integers\n",
    "    average_score = sum(scores) / len(scores) if scores else 0  # Calculate average score\n",
    "    print(i.get('group_id'), average_score)"
   ]
  },
  {
   "cell_type": "markdown",
   "metadata": {},
   "source": [
    "<h1 style=\"color:green\">2. What is the average score of each subject?</h1>"
   ]
  },
  {
   "cell_type": "code",
   "execution_count": null,
   "metadata": {},
   "outputs": [
    {
     "name": "stdout",
     "output_type": "stream",
     "text": [
      "79.0\n",
      "41.666666666666664\n"
     ]
    }
   ],
   "source": [
    "SubjectScore = []\n",
    "TempSubjectScore = []\n",
    "\n",
    "for i in range(len(temp2)):\n",
    "    TempSubjectScore.append(0)\n",
    "    SubjectScore.append(0)\n",
    "\n",
    "\n",
    "for i in range(len(temp2)):\n",
    "    for j in range(len(temp)):\n",
    "        if(temp[j].get(\"subject_id\")==temp2[i].get(\"subjects_id\")):\n",
    "            TempSubjectScore[i]+=1\n",
    "            SubjectScore[i]+=int(temp[j].get(\"score\"))\n",
    "\n",
    "for i in range(len(temp2)):\n",
    "    print(SubjectScore[i]/TempSubjectScore[i])\n"
   ]
  },
  {
   "cell_type": "markdown",
   "metadata": {},
   "source": [
    "<h1 style=\"color:green\">3. Who is the student that got the highest marks among all the groups and subjects?</h1>"
   ]
  },
  {
   "cell_type": "code",
   "execution_count": 30,
   "metadata": {},
   "outputs": [
    {
     "name": "stdout",
     "output_type": "stream",
     "text": [
      "S003 Aree Rukdee\n"
     ]
    }
   ],
   "source": [
    "max_score_doc = mycollection.find_one(sort=[(\"score\", pymongo.DESCENDING)])\n",
    "\n",
    "student_data = mycollection3.find_one({\"student_id\": max_score_doc[\"student_id\"]})\n",
    "print(max_score_doc[\"student_id\"], student_data[\"firstname\"], student_data[\"lastname\"])"
   ]
  },
  {
   "cell_type": "markdown",
   "metadata": {},
   "source": [
    "<h1 style=\"color:green\">4. Who is the teacher that taught the student in Q.3?</h1>"
   ]
  },
  {
   "cell_type": "code",
   "execution_count": 41,
   "metadata": {},
   "outputs": [
    {
     "name": "stdout",
     "output_type": "stream",
     "text": [
      "T001 Khajonpong Akkarajitsakul\n"
     ]
    }
   ],
   "source": [
    "subject = max_score_doc[\"subject_id\"]\n",
    "\n",
    "mycollection4 = mydb['group_teacher']\n",
    "group_teacher_data = mycollection4.find_one({\"group_id\": student_data[\"group_id\"]} and {\"subject_id\": subject})\n",
    "\n",
    "mycollection5 = mydb['teachers']\n",
    "teacher = mycollection5.find_one({\"teacher_id\": group_teacher_data[\"teacher_id\"]})\n",
    "\n",
    "print(teacher[\"teacher_id\"], teacher[\"firstname\"], teacher[\"lastname\"])"
   ]
  }
 ],
 "metadata": {
  "kernelspec": {
   "display_name": "base",
   "language": "python",
   "name": "python3"
  },
  "language_info": {
   "codemirror_mode": {
    "name": "ipython",
    "version": 3
   },
   "file_extension": ".py",
   "mimetype": "text/x-python",
   "name": "python",
   "nbconvert_exporter": "python",
   "pygments_lexer": "ipython3",
   "version": "3.11.9"
  }
 },
 "nbformat": 4,
 "nbformat_minor": 2
}
